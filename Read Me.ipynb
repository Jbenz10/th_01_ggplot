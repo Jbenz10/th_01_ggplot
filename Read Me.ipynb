{
 "cells": [
  {
   "cell_type": "markdown",
   "metadata": {},
   "source": [
    "# Read Me\n",
    "\n",
    "Die beiden Notebooks \"JB_Einführung_R_ggplot2\" und \"JB_Einführung_plotnine\" dienen dazu, dass der Nutzer eine kleine Einführung in den Bereich der Grafiken erhält. \n",
    "\n",
    "Die beiden Notebooks sollten am besten kopiert und von oben bis unten durchgemacht werden. Dabei sollte man sehr sorgfältig die verschiedenen Anwendungen betrachtet und alles gut durchlesen. \n",
    "\n",
    "Der Vergleich der beiden Notebooks geschieht in plotnine. Darin werden nur wenige Darstellungen gezeigt um ggplot2 und plotnine zu vergleichen. Der Fokus liegt auf ggplot2, daher wird es nur dazu Übungen geben. Gerne kann der Nutzer auch versuchen, die Grafiken in Phyton mit plotnine zu erstellen. Jedoch wird es dafür keine Musterlösungen geben.  \n",
    "\n",
    "Das Notebook in Python ist vom Umfang her kleiner um komprimierter, denn es werden nicht alle Details gezeigt, sondern nur wenige wichtige Grafiken. "
   ]
  },
  {
   "cell_type": "code",
   "execution_count": null,
   "metadata": {
    "collapsed": true
   },
   "outputs": [],
   "source": []
  }
 ],
 "metadata": {
  "kernelspec": {
   "display_name": "R",
   "language": "R",
   "name": "ir"
  },
  "language_info": {
   "codemirror_mode": "r",
   "file_extension": ".r",
   "mimetype": "text/x-r-source",
   "name": "R",
   "pygments_lexer": "r",
   "version": "3.4.2"
  }
 },
 "nbformat": 4,
 "nbformat_minor": 2
}
