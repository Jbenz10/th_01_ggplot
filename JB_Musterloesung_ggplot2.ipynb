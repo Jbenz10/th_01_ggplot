{
 "cells": [
  {
   "cell_type": "markdown",
   "metadata": {},
   "source": [
    "# Aufgabe 1 \n",
    "\n",
    "1. Binden Sie die Bibliothek für ggplot2 ein. Falls nötig Installieren Sie ggplot2. "
   ]
  },
  {
   "cell_type": "code",
   "execution_count": 1,
   "metadata": {
    "collapsed": true
   },
   "outputs": [],
   "source": [
    "library(ggplot2)"
   ]
  },
  {
   "cell_type": "markdown",
   "metadata": {},
   "source": [
    " Lesen Sie den Datensatz \"mariano-rivera.csv\" aus dem Ordner \"data\" ein."
   ]
  },
  {
   "cell_type": "code",
   "execution_count": 3,
   "metadata": {
    "collapsed": true
   },
   "outputs": [],
   "source": [
    "mr <- read.csv('data/mariano-rivera.csv', stringsAsFactors = FALSE, sep=';')"
   ]
  },
  {
   "cell_type": "markdown",
   "metadata": {},
   "source": [
    "Schauen Sie sich die Ersten 5 Zeilen an"
   ]
  },
  {
   "cell_type": "code",
   "execution_count": 5,
   "metadata": {},
   "outputs": [
    {
     "data": {
      "text/html": [
       "<table>\n",
       "<thead><tr><th scope=col>Year</th><th scope=col>Age</th><th scope=col>Tm</th><th scope=col>Lg</th><th scope=col>W</th><th scope=col>L</th><th scope=col>W.L.</th><th scope=col>ERA</th><th scope=col>G</th><th scope=col>GS</th><th scope=col>...</th><th scope=col>WP</th><th scope=col>BF</th><th scope=col>ERA.</th><th scope=col>WHIP</th><th scope=col>H.9</th><th scope=col>HR.9</th><th scope=col>BB.9</th><th scope=col>SO.9</th><th scope=col>SO.BB</th><th scope=col>Awards</th></tr></thead>\n",
       "<tbody>\n",
       "\t<tr><td>1995         </td><td>25           </td><td>NYY          </td><td>AL           </td><td>5            </td><td>3            </td><td>0.625        </td><td>Mai 51       </td><td>19           </td><td>10           </td><td>...          </td><td>0            </td><td>301          </td><td> 84          </td><td>1.507        </td><td>09. Mai      </td><td>01. Mai      </td><td>4.0          </td><td>06. Sep      </td><td>Jan 70       </td><td>             </td></tr>\n",
       "\t<tr><td>1996         </td><td>26           </td><td>NYY          </td><td>AL           </td><td>8            </td><td>3            </td><td>0.727        </td><td>02. Sep      </td><td>61           </td><td> 0           </td><td>...          </td><td>1            </td><td>425          </td><td>240          </td><td>0.994        </td><td>06. Jan      </td><td>0.1          </td><td>02. Aug      </td><td>10. Sep      </td><td>Mrz 82       </td><td>CYA-3MVP-12  </td></tr>\n",
       "\t<tr><td>1997         </td><td>27           </td><td>NYY          </td><td>AL           </td><td>6            </td><td>4            </td><td>0.600        </td><td>Jan 88       </td><td>66           </td><td> 0           </td><td>...          </td><td>2            </td><td>301          </td><td>239          </td><td>1.186        </td><td>08. Feb      </td><td>0.6          </td><td>02. Mai      </td><td>08. Mai      </td><td>Mrz 40       </td><td>ASMVP-25     </td></tr>\n",
       "\t<tr><td>1998         </td><td>28           </td><td>NYY          </td><td>AL           </td><td>3            </td><td>0            </td><td>1.000        </td><td>Jan 91       </td><td>54           </td><td> 0           </td><td>...          </td><td>0            </td><td>246          </td><td>233          </td><td>1.060        </td><td>7.0          </td><td>0.4          </td><td>02. Mai      </td><td>05. Mrz      </td><td>02. Dez      </td><td>             </td></tr>\n",
       "\t<tr><td>1999         </td><td>29           </td><td>NYY          </td><td>AL           </td><td>4            </td><td>3            </td><td>0.571        </td><td>Jan 83       </td><td>66           </td><td> 0           </td><td>...          </td><td>2            </td><td>268          </td><td>257          </td><td>0.884        </td><td>05. Jun      </td><td>0.3          </td><td>02. Mrz      </td><td>06. Aug      </td><td>Feb 89       </td><td>ASCYA-3MVP-14</td></tr>\n",
       "\t<tr><td>2000         </td><td>30           </td><td>NYY          </td><td>AL           </td><td>7            </td><td>4            </td><td>0.636        </td><td>Feb 85       </td><td>66           </td><td> 0           </td><td>...          </td><td>2            </td><td>311          </td><td>170          </td><td>1.097        </td><td>06. Sep      </td><td>0.5          </td><td>3.0          </td><td>06. Sep      </td><td>Feb 32       </td><td>AS           </td></tr>\n",
       "</tbody>\n",
       "</table>\n"
      ],
      "text/latex": [
       "\\begin{tabular}{r|llllllllllllllllllllllllllllllllll}\n",
       " Year & Age & Tm & Lg & W & L & W.L. & ERA & G & GS & ... & WP & BF & ERA. & WHIP & H.9 & HR.9 & BB.9 & SO.9 & SO.BB & Awards\\\\\n",
       "\\hline\n",
       "\t 1995          & 25            & NYY           & AL            & 5             & 3             & 0.625         & Mai 51        & 19            & 10            & ...           & 0             & 301           &  84           & 1.507         & 09. Mai       & 01. Mai       & 4.0           & 06. Sep       & Jan 70        &              \\\\\n",
       "\t 1996          & 26            & NYY           & AL            & 8             & 3             & 0.727         & 02. Sep       & 61            &  0            & ...           & 1             & 425           & 240           & 0.994         & 06. Jan       & 0.1           & 02. Aug       & 10. Sep       & Mrz 82        & CYA-3MVP-12  \\\\\n",
       "\t 1997          & 27            & NYY           & AL            & 6             & 4             & 0.600         & Jan 88        & 66            &  0            & ...           & 2             & 301           & 239           & 1.186         & 08. Feb       & 0.6           & 02. Mai       & 08. Mai       & Mrz 40        & ASMVP-25     \\\\\n",
       "\t 1998          & 28            & NYY           & AL            & 3             & 0             & 1.000         & Jan 91        & 54            &  0            & ...           & 0             & 246           & 233           & 1.060         & 7.0           & 0.4           & 02. Mai       & 05. Mrz       & 02. Dez       &              \\\\\n",
       "\t 1999          & 29            & NYY           & AL            & 4             & 3             & 0.571         & Jan 83        & 66            &  0            & ...           & 2             & 268           & 257           & 0.884         & 05. Jun       & 0.3           & 02. Mrz       & 06. Aug       & Feb 89        & ASCYA-3MVP-14\\\\\n",
       "\t 2000          & 30            & NYY           & AL            & 7             & 4             & 0.636         & Feb 85        & 66            &  0            & ...           & 2             & 311           & 170           & 1.097         & 06. Sep       & 0.5           & 3.0           & 06. Sep       & Feb 32        & AS           \\\\\n",
       "\\end{tabular}\n"
      ],
      "text/markdown": [
       "\n",
       "Year | Age | Tm | Lg | W | L | W.L. | ERA | G | GS | ... | WP | BF | ERA. | WHIP | H.9 | HR.9 | BB.9 | SO.9 | SO.BB | Awards | \n",
       "|---|---|---|---|---|---|\n",
       "| 1995          | 25            | NYY           | AL            | 5             | 3             | 0.625         | Mai 51        | 19            | 10            | ...           | 0             | 301           |  84           | 1.507         | 09. Mai       | 01. Mai       | 4.0           | 06. Sep       | Jan 70        |               | \n",
       "| 1996          | 26            | NYY           | AL            | 8             | 3             | 0.727         | 02. Sep       | 61            |  0            | ...           | 1             | 425           | 240           | 0.994         | 06. Jan       | 0.1           | 02. Aug       | 10. Sep       | Mrz 82        | CYA-3MVP-12   | \n",
       "| 1997          | 27            | NYY           | AL            | 6             | 4             | 0.600         | Jan 88        | 66            |  0            | ...           | 2             | 301           | 239           | 1.186         | 08. Feb       | 0.6           | 02. Mai       | 08. Mai       | Mrz 40        | ASMVP-25      | \n",
       "| 1998          | 28            | NYY           | AL            | 3             | 0             | 1.000         | Jan 91        | 54            |  0            | ...           | 0             | 246           | 233           | 1.060         | 7.0           | 0.4           | 02. Mai       | 05. Mrz       | 02. Dez       |               | \n",
       "| 1999          | 29            | NYY           | AL            | 4             | 3             | 0.571         | Jan 83        | 66            |  0            | ...           | 2             | 268           | 257           | 0.884         | 05. Jun       | 0.3           | 02. Mrz       | 06. Aug       | Feb 89        | ASCYA-3MVP-14 | \n",
       "| 2000          | 30            | NYY           | AL            | 7             | 4             | 0.636         | Feb 85        | 66            |  0            | ...           | 2             | 311           | 170           | 1.097         | 06. Sep       | 0.5           | 3.0           | 06. Sep       | Feb 32        | AS            | \n",
       "\n",
       "\n"
      ],
      "text/plain": [
       "  Year Age Tm  Lg W L W.L.  ERA     G  GS ... WP BF  ERA. WHIP  H.9     HR.9   \n",
       "1 1995 25  NYY AL 5 3 0.625 Mai 51  19 10 ... 0  301  84  1.507 09. Mai 01. Mai\n",
       "2 1996 26  NYY AL 8 3 0.727 02. Sep 61  0 ... 1  425 240  0.994 06. Jan 0.1    \n",
       "3 1997 27  NYY AL 6 4 0.600 Jan 88  66  0 ... 2  301 239  1.186 08. Feb 0.6    \n",
       "4 1998 28  NYY AL 3 0 1.000 Jan 91  54  0 ... 0  246 233  1.060 7.0     0.4    \n",
       "5 1999 29  NYY AL 4 3 0.571 Jan 83  66  0 ... 2  268 257  0.884 05. Jun 0.3    \n",
       "6 2000 30  NYY AL 7 4 0.636 Feb 85  66  0 ... 2  311 170  1.097 06. Sep 0.5    \n",
       "  BB.9    SO.9    SO.BB   Awards       \n",
       "1 4.0     06. Sep Jan 70               \n",
       "2 02. Aug 10. Sep Mrz 82  CYA-3MVP-12  \n",
       "3 02. Mai 08. Mai Mrz 40  ASMVP-25     \n",
       "4 02. Mai 05. Mrz 02. Dez              \n",
       "5 02. Mrz 06. Aug Feb 89  ASCYA-3MVP-14\n",
       "6 3.0     06. Sep Feb 32  AS           "
      ]
     },
     "metadata": {},
     "output_type": "display_data"
    }
   ],
   "source": [
    "head(mr)"
   ]
  },
  {
   "cell_type": "markdown",
   "metadata": {},
   "source": [
    "Generieren Sie ein Streudiagramm. Mit den Werten \"G\" und \"IP\". Das Diagramm soll die Farbe \"red\" haben"
   ]
  },
  {
   "cell_type": "code",
   "execution_count": 14,
   "metadata": {},
   "outputs": [
    {
     "data": {},
     "metadata": {},
     "output_type": "display_data"
    },
    {
     "data": {
      "image/png": "[encoded data removed]",
      "text/plain": [
       "plot without title"
      ]
     },
     "metadata": {},
     "output_type": "display_data"
    }
   ],
   "source": [
    "ggplot(mr) + \n",
    " geom_point(mapping = aes(x=Age, y=WHIP), colour = \"red\")"
   ]
  },
  {
   "cell_type": "markdown",
   "metadata": {},
   "source": [
    "Führen Sie eine Glättung durch unter berücksichtigung des 95 % Intervalls bei der Regressionsgerade"
   ]
  },
  {
   "cell_type": "code",
   "execution_count": 15,
   "metadata": {},
   "outputs": [
    {
     "data": {},
     "metadata": {},
     "output_type": "display_data"
    },
    {
     "data": {
      "image/png": "[encoded data removed]",
      "text/plain": [
       "plot without title"
      ]
     },
     "metadata": {},
     "output_type": "display_data"
    }
   ],
   "source": [
    "pplot <- ggplot(data= mr, aes(x=Age, y=WHIP)) + geom_point()\n",
    "# geom_smooth (Glättung) wird hinzugefügt, mit \"lm\" wird die Regressionsvariable erzeugt, Intervall wird ausgeschlossen\n",
    "pplot + geom_smooth(method = lm, se=F) "
   ]
  },
  {
   "cell_type": "code",
   "execution_count": 16,
   "metadata": {},
   "outputs": [
    {
     "data": {},
     "metadata": {},
     "output_type": "display_data"
    },
    {
     "data": {
      "image/png": "[encoded data removed]",
      "text/plain": [
       "plot without title"
      ]
     },
     "metadata": {},
     "output_type": "display_data"
    }
   ],
   "source": [
    "# gleich wie oben, jedoch hier ist das 95% - Standardintervall enthalten\n",
    "pplot + \n",
    "  geom_smooth(method = lm)"
   ]
  },
  {
   "cell_type": "markdown",
   "metadata": {},
   "source": [
    "# Aufgabe 2\n",
    "\n",
    "Erzeugen Sie ein Dataframe mit folgenden Werten:\n",
    "\n",
    "        a) 2,3,4,5,6,7,8,9,10\n",
    "        b) 2,4,8,6,2,5,7,9,12\n",
    "        c) 1,3,5,8,9,12,14,15,13\n",
    "        d) 1,4,6,8,6,5,9,12,13\n",
    "        \n",
    "Und färben Sie mit diesen Daten ein Liniendiagramm mit den Farben gelb, grün und rot. "
   ]
  },
  {
   "cell_type": "code",
   "execution_count": 23,
   "metadata": {},
   "outputs": [
    {
     "data": {
      "text/html": [
       "<table>\n",
       "<thead><tr><th scope=col>x</th><th scope=col>b</th><th scope=col>c</th><th scope=col>d</th></tr></thead>\n",
       "<tbody>\n",
       "\t<tr><td> 2</td><td> 2</td><td> 1</td><td> 1</td></tr>\n",
       "\t<tr><td> 3</td><td> 4</td><td> 3</td><td> 4</td></tr>\n",
       "\t<tr><td> 4</td><td> 8</td><td> 5</td><td> 6</td></tr>\n",
       "\t<tr><td> 5</td><td> 6</td><td> 8</td><td> 8</td></tr>\n",
       "\t<tr><td> 6</td><td> 2</td><td> 9</td><td> 6</td></tr>\n",
       "\t<tr><td> 7</td><td> 5</td><td>12</td><td> 5</td></tr>\n",
       "\t<tr><td> 8</td><td> 7</td><td>14</td><td> 9</td></tr>\n",
       "\t<tr><td> 9</td><td> 9</td><td>15</td><td>12</td></tr>\n",
       "\t<tr><td>10</td><td>12</td><td>13</td><td>13</td></tr>\n",
       "</tbody>\n",
       "</table>\n"
      ],
      "text/latex": [
       "\\begin{tabular}{r|llll}\n",
       " x & b & c & d\\\\\n",
       "\\hline\n",
       "\t  2 &  2 &  1 &  1\\\\\n",
       "\t  3 &  4 &  3 &  4\\\\\n",
       "\t  4 &  8 &  5 &  6\\\\\n",
       "\t  5 &  6 &  8 &  8\\\\\n",
       "\t  6 &  2 &  9 &  6\\\\\n",
       "\t  7 &  5 & 12 &  5\\\\\n",
       "\t  8 &  7 & 14 &  9\\\\\n",
       "\t  9 &  9 & 15 & 12\\\\\n",
       "\t 10 & 12 & 13 & 13\\\\\n",
       "\\end{tabular}\n"
      ],
      "text/markdown": [
       "\n",
       "x | b | c | d | \n",
       "|---|---|---|---|---|---|---|---|---|\n",
       "|  2 |  2 |  1 |  1 | \n",
       "|  3 |  4 |  3 |  4 | \n",
       "|  4 |  8 |  5 |  6 | \n",
       "|  5 |  6 |  8 |  8 | \n",
       "|  6 |  2 |  9 |  6 | \n",
       "|  7 |  5 | 12 |  5 | \n",
       "|  8 |  7 | 14 |  9 | \n",
       "|  9 |  9 | 15 | 12 | \n",
       "| 10 | 12 | 13 | 13 | \n",
       "\n",
       "\n"
      ],
      "text/plain": [
       "  x  b  c  d \n",
       "1  2  2  1  1\n",
       "2  3  4  3  4\n",
       "3  4  8  5  6\n",
       "4  5  6  8  8\n",
       "5  6  2  9  6\n",
       "6  7  5 12  5\n",
       "7  8  7 14  9\n",
       "8  9  9 15 12\n",
       "9 10 12 13 13"
      ]
     },
     "metadata": {},
     "output_type": "display_data"
    }
   ],
   "source": [
    "ddf <- data.frame(\n",
    "    x  = c( 2, 3, 4, 5, 6, 7, 8, 9, 10),\n",
    "    b = c( 2, 4, 8, 6, 2, 5, 7, 9, 12),\n",
    "    c = c( 1, 3, 5, 8, 9, 12, 14, 15, 13),\n",
    "    d = c( 1, 4, 6, 8, 6, 5, 9, 12, 13)\n",
    "    )\n",
    "\n",
    "ddf"
   ]
  },
  {
   "cell_type": "code",
   "execution_count": 25,
   "metadata": {},
   "outputs": [
    {
     "data": {},
     "metadata": {},
     "output_type": "display_data"
    },
    {
     "data": {
      "image/png": "[encoded data removed]",
      "text/plain": [
       "plot without title"
      ]
     },
     "metadata": {},
     "output_type": "display_data"
    }
   ],
   "source": [
    "pplot <- ggplot(data=ddf, aes(x=x))\n",
    "\n",
    "pplot + geom_line(aes(y=b), color='blue') + geom_line(aes(y=c), color='green') + geom_line(aes(y=d), color='red')"
   ]
  },
  {
   "cell_type": "markdown",
   "metadata": {},
   "source": [
    "# Aufgabe 3 \n",
    "\n",
    "Lesen Sie den Datensatz \"Note_Klasse_4b\" ein \n",
    "\n",
    "\n",
    "Erzeugen Sie ein Balkendiagramm, dass die häufigkeit und das Fach \"Englisch\" darstellt "
   ]
  },
  {
   "cell_type": "code",
   "execution_count": 27,
   "metadata": {},
   "outputs": [
    {
     "data": {
      "text/html": [
       "<table>\n",
       "<thead><tr><th scope=col>Name</th><th scope=col>Musik</th><th scope=col>Englisch</th><th scope=col>Sport</th><th scope=col>Chemie</th><th scope=col>Deutsch</th><th scope=col>Geschichte</th><th scope=col>Mathe</th><th scope=col>Biologie</th><th scope=col>Physik</th><th scope=col>Erdkunde</th><th scope=col>Kunst</th></tr></thead>\n",
       "<tbody>\n",
       "\t<tr><td>Max Mustermann   </td><td>2                </td><td>4                </td><td>1                </td><td>2                </td><td>3                </td><td>3                </td><td>1                </td><td>2                </td><td>1                </td><td>2                </td><td>3                </td></tr>\n",
       "\t<tr><td>Alfred Norm      </td><td>1                </td><td>3                </td><td>2                </td><td>4                </td><td>5                </td><td>6                </td><td>2                </td><td>3                </td><td>5                </td><td>2                </td><td>1                </td></tr>\n",
       "\t<tr><td>Gorgina Hansemann</td><td>3                </td><td>2                </td><td>3                </td><td>2                </td><td>1                </td><td>2                </td><td>2                </td><td>1                </td><td>3                </td><td>3                </td><td>2                </td></tr>\n",
       "\t<tr><td>Lisa Jodel       </td><td>4                </td><td>1                </td><td>6                </td><td>4                </td><td>2                </td><td>2                </td><td>3                </td><td>1                </td><td>4                </td><td>5                </td><td>6                </td></tr>\n",
       "\t<tr><td>Franz Herrmann   </td><td>2                </td><td>3                </td><td>4                </td><td>5                </td><td>1                </td><td>2                </td><td>3                </td><td>5                </td><td>4                </td><td>6                </td><td>2                </td></tr>\n",
       "\t<tr><td>Timo Kanne       </td><td>5                </td><td>4                </td><td>2                </td><td>6                </td><td>1                </td><td>2                </td><td>3                </td><td>5                </td><td>2                </td><td>2                </td><td>6                </td></tr>\n",
       "</tbody>\n",
       "</table>\n"
      ],
      "text/latex": [
       "\\begin{tabular}{r|llllllllllll}\n",
       " Name & Musik & Englisch & Sport & Chemie & Deutsch & Geschichte & Mathe & Biologie & Physik & Erdkunde & Kunst\\\\\n",
       "\\hline\n",
       "\t Max Mustermann    & 2                 & 4                 & 1                 & 2                 & 3                 & 3                 & 1                 & 2                 & 1                 & 2                 & 3                \\\\\n",
       "\t Alfred Norm       & 1                 & 3                 & 2                 & 4                 & 5                 & 6                 & 2                 & 3                 & 5                 & 2                 & 1                \\\\\n",
       "\t Gorgina Hansemann & 3                 & 2                 & 3                 & 2                 & 1                 & 2                 & 2                 & 1                 & 3                 & 3                 & 2                \\\\\n",
       "\t Lisa Jodel        & 4                 & 1                 & 6                 & 4                 & 2                 & 2                 & 3                 & 1                 & 4                 & 5                 & 6                \\\\\n",
       "\t Franz Herrmann    & 2                 & 3                 & 4                 & 5                 & 1                 & 2                 & 3                 & 5                 & 4                 & 6                 & 2                \\\\\n",
       "\t Timo Kanne        & 5                 & 4                 & 2                 & 6                 & 1                 & 2                 & 3                 & 5                 & 2                 & 2                 & 6                \\\\\n",
       "\\end{tabular}\n"
      ],
      "text/markdown": [
       "\n",
       "Name | Musik | Englisch | Sport | Chemie | Deutsch | Geschichte | Mathe | Biologie | Physik | Erdkunde | Kunst | \n",
       "|---|---|---|---|---|---|\n",
       "| Max Mustermann    | 2                 | 4                 | 1                 | 2                 | 3                 | 3                 | 1                 | 2                 | 1                 | 2                 | 3                 | \n",
       "| Alfred Norm       | 1                 | 3                 | 2                 | 4                 | 5                 | 6                 | 2                 | 3                 | 5                 | 2                 | 1                 | \n",
       "| Gorgina Hansemann | 3                 | 2                 | 3                 | 2                 | 1                 | 2                 | 2                 | 1                 | 3                 | 3                 | 2                 | \n",
       "| Lisa Jodel        | 4                 | 1                 | 6                 | 4                 | 2                 | 2                 | 3                 | 1                 | 4                 | 5                 | 6                 | \n",
       "| Franz Herrmann    | 2                 | 3                 | 4                 | 5                 | 1                 | 2                 | 3                 | 5                 | 4                 | 6                 | 2                 | \n",
       "| Timo Kanne        | 5                 | 4                 | 2                 | 6                 | 1                 | 2                 | 3                 | 5                 | 2                 | 2                 | 6                 | \n",
       "\n",
       "\n"
      ],
      "text/plain": [
       "  Name              Musik Englisch Sport Chemie Deutsch Geschichte Mathe\n",
       "1 Max Mustermann    2     4        1     2      3       3          1    \n",
       "2 Alfred Norm       1     3        2     4      5       6          2    \n",
       "3 Gorgina Hansemann 3     2        3     2      1       2          2    \n",
       "4 Lisa Jodel        4     1        6     4      2       2          3    \n",
       "5 Franz Herrmann    2     3        4     5      1       2          3    \n",
       "6 Timo Kanne        5     4        2     6      1       2          3    \n",
       "  Biologie Physik Erdkunde Kunst\n",
       "1 2        1      2        3    \n",
       "2 3        5      2        1    \n",
       "3 1        3      3        2    \n",
       "4 1        4      5        6    \n",
       "5 5        4      6        2    \n",
       "6 5        2      2        6    "
      ]
     },
     "metadata": {},
     "output_type": "display_data"
    }
   ],
   "source": [
    "kl <- read.csv('data/Note_Klasse_4b.csv', stringsAsFactors = FALSE, sep=';')\n",
    "head(kl)"
   ]
  },
  {
   "cell_type": "code",
   "execution_count": 29,
   "metadata": {},
   "outputs": [
    {
     "data": {},
     "metadata": {},
     "output_type": "display_data"
    },
    {
     "data": {
      "image/png": "[encoded data removed]",
      "text/plain": [
       "plot without title"
      ]
     },
     "metadata": {},
     "output_type": "display_data"
    }
   ],
   "source": [
    "ggplot(kl, aes(Englisch)) + \n",
    "  geom_bar()"
   ]
  },
  {
   "cell_type": "code",
   "execution_count": null,
   "metadata": {
    "collapsed": true
   },
   "outputs": [],
   "source": []
  }
 ],
 "metadata": {
  "kernelspec": {
   "display_name": "R",
   "language": "R",
   "name": "ir"
  },
  "language_info": {
   "codemirror_mode": "r",
   "file_extension": ".r",
   "mimetype": "text/x-r-source",
   "name": "R",
   "pygments_lexer": "r",
   "version": "3.4.2"
  }
 },
 "nbformat": 4,
 "nbformat_minor": 2
}
