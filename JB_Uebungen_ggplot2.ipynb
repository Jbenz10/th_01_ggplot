{
 "cells": [
  {
   "cell_type": "markdown",
   "metadata": {},
   "source": [
    "# Übungen zu ggplot2 \n",
    "\n",
    "## Aufgabe 1 \n",
    "\n",
    "1. Binden Sie die Bibliothek für ggplot2 ein. Falls nötig Installieren Sie ggplot2. \n",
    "2. Lesen Sie den Datensatz \"mariano-rivera.csv\" aus dem Ordner \"data\" ein. \n",
    "3. Schauen Sie sich die Ersten 5 Zeilen an\n",
    "4. Generieren Sie ein Streudiagramm. Mit den Werten \"Age\" und \"WHIP\". Das Diagramm soll die Farbe \"red\" haben\n",
    "5. Führen Sie eine Glättung durch unter Berücksichtigung des 95 % Intervalls bei der Regressionsgerade \n",
    "\n",
    "\n",
    "## Aufgabe 2 \n",
    "\n",
    "1. Erzeugen Sie ein Dataframe mit folgenden Werten:\n",
    "        x) 2,3,4,5,6,7,8,9,10\n",
    "        b) 2,4,8,6,2,5,7,9,12\n",
    "        c) 1,3,5,8,9,12,14,15,13\n",
    "        d) 1,4,6,8,6,5,9,12,13\n",
    "    Und färben Sie mit diesen Daten ein Liniendiagramm mit den Farben gelb, grün und rot. \n",
    "\n",
    "## Aufgabe 3\n",
    "\n",
    "1. Lesen Sie den Datensatz \"Note_Klasse_4b\" ein \n",
    "2. Erzeugen Sie ein Balkendiagramm, dass die häufigkeit und das Fach \"Englisch\" darstellt "
   ]
  },
  {
   "cell_type": "markdown",
   "metadata": {
    "collapsed": true
   },
   "source": [
    "**Verbesserungsvorschlag NG**\n",
    "\n",
    "Frage: hast du bei Aufgabe 2, 1  es absichtlich x,b,c,d genannt? oder wolltest du es x,a,b,c nennen?\n",
    "\n",
    "sonst Aufgaben klar verständliich und lösbar"
   ]
  }
 ],
 "metadata": {
  "kernelspec": {
   "display_name": "R",
   "language": "R",
   "name": "ir"
  },
  "language_info": {
   "codemirror_mode": "r",
   "file_extension": ".r",
   "mimetype": "text/x-r-source",
   "name": "R",
   "pygments_lexer": "r",
   "version": "3.4.2"
  }
 },
 "nbformat": 4,
 "nbformat_minor": 2
}
